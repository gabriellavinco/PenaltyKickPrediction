{
  "cells": [
    {
      "cell_type": "markdown",
      "metadata": {
        "id": "oVgGux1YamsC"
      },
      "source": [
        "# Install/Load in Dependencies\n",
        "\n"
      ]
    },
    {
      "cell_type": "code",
      "execution_count": null,
      "metadata": {
        "id": "xzUQCE4hGNka"
      },
      "outputs": [],
      "source": [
        "# ! pip install ftfy regex tqdm ffmpeg-python\n",
        "# ! pip install git+https://github.com/openai/CLIP.git"
      ]
    },
    {
      "cell_type": "code",
      "execution_count": null,
      "metadata": {
        "id": "WxoZ8mgOEADQ"
      },
      "outputs": [],
      "source": [
        "!pip install -r /content/gdrive/MyDrive/MASTERS_THESIS/yolov7pose/yolov7/requirements.txt"
      ]
    },
    {
      "cell_type": "code",
      "execution_count": null,
      "metadata": {
        "id": "5UwwPu-oKnzK"
      },
      "outputs": [],
      "source": [
        "!pip install ffmpeg-python"
      ]
    },
    {
      "cell_type": "code",
      "execution_count": null,
      "metadata": {
        "id": "XjK4b0VVTbEF"
      },
      "outputs": [],
      "source": [
        "import cv2\n",
        "import matplotlib.pyplot as plt\n",
        "from google.colab.patches import cv2_imshow\n",
        "import numpy as np\n",
        "import tensorflow as tf\n",
        "import re\n",
        "import ffmpeg\n",
        "import os\n",
        "import urllib.request\n",
        "import sys\n",
        "import torch\n",
        "import time\n",
        "import json\n",
        "import csv\n",
        "import shutil\n",
        "import datetime\n",
        "import shutil\n",
        "import os\n",
        "import torch\n",
        "import urllib\n",
        "from glob import glob\n",
        "import pathlib\n",
        "from pathlib import Path\n",
        "from tempfile import NamedTemporaryFile\n",
        "\n",
        "from torchvision import transforms\n",
        "from PIL import Image\n",
        "from moviepy.editor import *\n",
        "\n",
        "%matplotlib inline"
      ]
    },
    {
      "cell_type": "code",
      "execution_count": null,
      "metadata": {
        "id": "I-rxjyGJUk8x"
      },
      "outputs": [],
      "source": [
        "YOLO_DIR = '/content/gdrive/MyDrive/MASTERS_THESIS/yolov7pose/yolov7'\n",
        "RESULTS_DIR = '/content/gdrive/MyDrive/MASTERS_THESIS/yolov7pose/results'\n",
        "\n",
        "if not os.path.exists(RESULTS_DIR):\n",
        "    print(\"Creating the directory:\", RESULTS_DIR)\n",
        "    os.mkdir(RESULTS_DIR)\n",
        "    print(\"Done\")"
      ]
    },
    {
      "cell_type": "code",
      "execution_count": null,
      "metadata": {
        "id": "SWGXWhYeVFmn"
      },
      "outputs": [],
      "source": [
        "YOLOV7_MODEL = [\n",
        "    \"https://github.com/WongKinYiu/yolov7/releases/download/v0.1/yolov7-tiny.pt\",\n",
        "    \"https://github.com/WongKinYiu/yolov7/releases/download/v0.1/yolov7.pt\",\n",
        "    \"https://github.com/WongKinYiu/yolov7/releases/download/v0.1/yolov7x.pt\",\n",
        "    \"https://github.com/WongKinYiu/yolov7/releases/download/v0.1/yolov7-w6.pt\",\n",
        "    \"https://github.com/WongKinYiu/yolov7/releases/download/v0.1/yolov7-e6.pt\",\n",
        "    \"https://github.com/WongKinYiu/yolov7/releases/download/v0.1/yolov7-d6.pt\",\n",
        "    \"https://github.com/WongKinYiu/yolov7/releases/download/v0.1/yolov7-e6e.pt\",\n",
        "    \"https://github.com/WongKinYiu/yolov7/releases/download/v0.1/yolov7-w6-pose.pt\",\n",
        "]\n"
      ]
    },
    {
      "cell_type": "markdown",
      "metadata": {
        "id": "ePPYJtWw_KZL"
      },
      "source": [
        "# Train Object Detection Model (on RoboFlow data)\n"
      ]
    },
    {
      "cell_type": "code",
      "execution_count": null,
      "metadata": {
        "id": "iresuNUBqxmW"
      },
      "outputs": [],
      "source": [
        "# !pip install roboflow\n",
        "\n",
        "# from roboflow import Roboflow\n",
        "# rf = Roboflow(api_key=\"ZVnQlngkVhiJ45OYIeX2\")\n",
        "# project = rf.workspace(\"thesis-pk\").project(\"penaltykickcontinuation\")\n",
        "# dataset = project.version(3).download(\"yolov7\")\n"
      ]
    },
    {
      "cell_type": "code",
      "execution_count": null,
      "metadata": {
        "id": "DP2m3bAHMdmB"
      },
      "outputs": [],
      "source": [
        "# # download COCO starting checkpoint\n",
        "# %cd /content/gdrive/MyDrive/MASTERS_THESIS/yolov7pose/yolov7\n",
        "# !wget https://github.com/WongKinYiu/yolov7/releases/download/v0.1/yolov7_training.pt"
      ]
    },
    {
      "cell_type": "code",
      "execution_count": null,
      "metadata": {
        "id": "cIskb40KM30C"
      },
      "outputs": [],
      "source": [
        "# # run this cell to begin training\n",
        "# %cd /content/gdrive/MyDrive/MASTERS_THESIS/yolov7pose/yolov7\n",
        "# !python train.py --batch 16 --epochs 55 --data /content/gdrive/MyDrive/MASTERS_THESIS/yolov7pose/yolov7/penaltykickcontinuation-3/data.yaml --weights 'yolov7_training.pt' --device 0 "
      ]
    },
    {
      "cell_type": "code",
      "execution_count": null,
      "metadata": {
        "id": "vjrcWzz-rDhG"
      },
      "outputs": [],
      "source": [
        "# # run this cell to begin training\n",
        "# %cd /content/gdrive/MyDrive/MASTERS_THESIS/yolov7pose/yolov7\n",
        "# !python train.py --batch 16 --epochs 75 --data /content/gdrive/MyDrive/MASTERS_THESIS/yolov7pose/yolov7/penaltykickcontinuation-3/data.yaml --weights 'yolov7_training.pt'\n"
      ]
    },
    {
      "cell_type": "code",
      "execution_count": null,
      "metadata": {
        "id": "chqAdbN_9Xde"
      },
      "outputs": [],
      "source": []
    },
    {
      "cell_type": "markdown",
      "metadata": {
        "id": "QOOwPiA_cyNu"
      },
      "source": [
        "# Run Script for Object Detection and Pose Estimation\n"
      ]
    },
    {
      "cell_type": "code",
      "execution_count": null,
      "metadata": {
        "id": "kNyJjEtWeAcx"
      },
      "outputs": [],
      "source": [
        "os.chdir(YOLO_DIR)\n",
        "crop_path_list = ['Center', 'Left', 'Right']\n",
        "crop_video_list = []\n",
        "dict_list = []\n",
        "temp_vid_dict = {}"
      ]
    },
    {
      "cell_type": "code",
      "source": [
        "# for crop_path in crop_path_list:\n",
        "#   adj_path = '/content/gdrive/Othercomputers/MyMacBookAir/penaltyclips/'\n",
        "#   alt_path = os.path.join(adj_path,crop_path)\n",
        "#   adjusted_list = os.listdir(alt_path)\n",
        "#   other_repos = \"/content/gdrive/MyDrive/MASTERS_THESIS/yolov7pose/\"\n",
        "#   main_yolo_path = \"/content/gdrive/MyDrive/MASTERS_THESIS/yolov7pose/yolov7\"\n",
        "\n",
        "\n",
        " # ## only needs to be run if new videos have been added to dataset\n",
        "\n",
        "  # for video in adjusted_list:\n",
        "  #   print(video)\n",
        "  # # remove odd characters from video title\n",
        "  #   input_name = video\n",
        "  #   special_string = input_name.replace(\" \", \"_\")\n",
        "  #   # Check if the character in the list is not special\n",
        "  #   normal_string = re.sub(r'[^\\w_. -]', '_', special_string)\n",
        "  #   normal_string = normal_string.replace('.mov','')\n",
        "  #   # normal_string = normal_string+\".mp4\"\n",
        "  #   # normal_string = normal_string.replace('.mp4','')\n",
        "  #   #rename the files\n",
        "  #   special_string = os.path.join(alt_path,input_name)\n",
        "  #   normal_string = os.path.join(alt_path,normal_string)\n",
        "  #   if special_string != normal_string:\n",
        "  #     video = os.rename(special_string, normal_string)\n",
        "\n",
        "\n",
        "#   for item in adjusted_list:\n",
        "  # path = os.path.join(alt_path,item)\n",
        "  # !python3 {main_yolo_path}/detect.py --weights {main_yolo_path}/runs/train/exp29/weights/best.pt --classes 1 --source {path} "
      ],
      "metadata": {
        "id": "nx301zTnof7M"
      },
      "execution_count": null,
      "outputs": []
    },
    {
      "cell_type": "markdown",
      "source": [
        "#Running Pose Est Part Again for the Mirrored Videos (ran only on the pose est script)"
      ],
      "metadata": {
        "id": "ICCvcQvTori6"
      }
    },
    {
      "cell_type": "code",
      "execution_count": null,
      "metadata": {
        "id": "0OceVOWUeFXC"
      },
      "outputs": [],
      "source": [
        "# for running only the pose estimation part for mirrored videos\n",
        "OD_results_path = \"/content/gdrive/MyDrive/MASTERS_THESIS/yolov7pose/yolov7/runs/detect/\"\n",
        "main_yolo_path = \"/content/gdrive/MyDrive/MASTERS_THESIS/yolov7pose/yolov7\"\n",
        "OD_adjusted_list = os.listdir(OD_results_path)\n",
        "%cd {main_yolo_path}\n",
        "\n",
        "\n",
        "modelid = YOLOV7_MODEL[7]\n",
        "if not os.path.exists(modelid):\n",
        "    print(\"Downloading the model:\",\n",
        "          os.path.basename(modelid), \"from:\", modelid)\n",
        "    urllib.request.urlretrieve(modelid, \n",
        "                                filename=os.path.basename(modelid))\n",
        "    print(\"Done\\n\")\n",
        "    !ls yolo*.pt -lh\n",
        "\n",
        "if os.path.exists(modelid):\n",
        "    print(\"Downloaded model files:\")\n",
        "    !ls yolo*.pt -lh\n"
      ]
    },
    {
      "cell_type": "code",
      "source": [
        "for item in OD_adjusted_list:\n",
        "  path = os.path.join(OD_results_path,item)\n",
        "  !python3 {main_yolo_path}/detect.py --source {path} "
      ],
      "metadata": {
        "id": "hCgzyCfQuuOf"
      },
      "execution_count": null,
      "outputs": []
    }
  ],
  "metadata": {
    "accelerator": "GPU",
    "colab": {
      "collapsed_sections": [
        "oVgGux1YamsC",
        "ePPYJtWw_KZL",
        "QOOwPiA_cyNu",
        "ICCvcQvTori6"
      ],
      "machine_shape": "hm",
      "provenance": []
    },
    "gpuClass": "standard",
    "kernelspec": {
      "display_name": "Python 3",
      "name": "python3"
    },
    "language_info": {
      "name": "python"
    }
  },
  "nbformat": 4,
  "nbformat_minor": 0
}